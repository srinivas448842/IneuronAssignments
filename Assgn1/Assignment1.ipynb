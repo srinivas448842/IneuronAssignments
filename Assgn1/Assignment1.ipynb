{
 "cells": [
  {
   "cell_type": "markdown",
   "metadata": {},
   "source": [
    "# Task 1"
   ]
  },
  {
   "cell_type": "code",
   "execution_count": null,
   "metadata": {},
   "outputs": [],
   "source": [
    "\"\"\"Task 1 : \"\"\"\n",
    "\"\"\"Install Jupyter notebook and run the first program and share the screenshot of the output.\"\"\"\n",
    "a = [1,2,3,4,5]\n",
    "b = [6,7,8,9,1]\n",
    "print(a+b) # Lists should be concatenated"
   ]
  },
  {
   "cell_type": "code",
   "execution_count": null,
   "metadata": {},
   "outputs": [],
   "source": [
    "\"\"\"Write a program which will find all such numbers which are divisible by 7 but are not a multiple\n",
    "of 5, between 2000 and 3200 (both included). The numbers obtained should be printed in a\n",
    "comma-separated sequence on a single line.\"\"\"\n",
    "b=[]\n",
    "for i in range(2000, 3201):\n",
    "    if(i%5!=0 and i%7==0):\n",
    "        b.append(i)\n",
    "print(b)"
   ]
  },
  {
   "cell_type": "code",
   "execution_count": null,
   "metadata": {},
   "outputs": [],
   "source": [
    "\"\"\"Write a Python program to accept the user's first and last name and then getting them printed in\n",
    "the the reverse order with a space between first name and last name.\"\"\"\n",
    "fn = input(\"Enter First Name : \")\n",
    "ln = input(\"Enter Last Name : \")\n",
    "full = fn + \" \" + ln\n",
    "full[::-1]\n",
    "print(\"Full Name : \")\n",
    "print(fn + \" \" + ln)"
   ]
  },
  {
   "cell_type": "code",
   "execution_count": 1,
   "metadata": {},
   "outputs": [
    {
     "data": {
      "text/plain": [
       "904.7786842338603"
      ]
     },
     "execution_count": 1,
     "metadata": {},
     "output_type": "execute_result"
    }
   ],
   "source": [
    "\"\"\"Write a Python program to find the volume of a sphere with diameter 12 cm.\n",
    "Formula: V=4/3 * π * r 3\"\"\"\n",
    "import math\n",
    "d= 12\n",
    "r = d/2\n",
    "v = (4/3)*(math.pi)*(pow(r,3))\n",
    "v"
   ]
  },
  {
   "cell_type": "markdown",
   "metadata": {},
   "source": [
    "# Task 2"
   ]
  },
  {
   "cell_type": "code",
   "execution_count": 5,
   "metadata": {},
   "outputs": [
    {
     "name": "stdout",
     "output_type": "stream",
     "text": [
      "Enter Comma separated Numericals : 1,2,3,4,5\n",
      "['1', '2', '3', '4', '5']\n"
     ]
    },
    {
     "data": {
      "text/plain": [
       "[1, 2, 3, 4, 5]"
      ]
     },
     "execution_count": 5,
     "metadata": {},
     "output_type": "execute_result"
    }
   ],
   "source": [
    "\"\"\"Task 2 : \"\"\"\n",
    "\"\"\"Write a program which accepts a sequence of comma-separated numbers from console and\n",
    "generate a list.\"\"\"\n",
    "a = input(\"Enter Comma separated Numericals : \")\n",
    "b = []\n",
    "b = a.split(\",\")\n",
    "c = []\n",
    "print(b)\n",
    "for i in b:\n",
    "    c.append(int(i))\n",
    "c"
   ]
  },
  {
   "cell_type": "code",
   "execution_count": 28,
   "metadata": {},
   "outputs": [
    {
     "name": "stdout",
     "output_type": "stream",
     "text": [
      "*\n",
      "**\n",
      "***\n",
      "****\n",
      "*****\n",
      "****\n",
      "***\n",
      "**\n",
      "*\n"
     ]
    }
   ],
   "source": [
    "\"\"\"Create the below pattern using nested for loop in Python.\"\"\"\n",
    "for i in range(0,5):\n",
    "    \n",
    "        for j in range(i+1):\n",
    "            if(j<=i):\n",
    "                print('*', end='')\n",
    "        print()\n",
    "\n",
    "for j in range(4,0,-1):\n",
    "    for i in range(j):\n",
    "         print('*', end='')\n",
    "    print()"
   ]
  },
  {
   "cell_type": "code",
   "execution_count": 31,
   "metadata": {},
   "outputs": [
    {
     "name": "stdout",
     "output_type": "stream",
     "text": [
      "Enter a word : AcadGild\n",
      "output :  dliGdacA\n"
     ]
    }
   ],
   "source": [
    "\"\"\"Write a Python program to reverse a word after accepting the input from the user.\"\"\"\n",
    "n = input(\"Enter a word : \")\n",
    "print(r\"output : \", n[::-1])"
   ]
  },
  {
   "cell_type": "code",
   "execution_count": 41,
   "metadata": {},
   "outputs": [
    {
     "name": "stdout",
     "output_type": "stream",
     "text": [
      "WE, THE PEOPLE OF INDIA, \n",
      "\thaving solemnly resolved to constitute India into a SOVEREIGN,!\n",
      "\t      SOCIALIST, SECULAR, DEMOCRATIC REPUBLIC \n",
      "\t       and to secure to all its citizens\n"
     ]
    }
   ],
   "source": [
    "\"\"\"Write a Python Program to print the given string in the format specified in the sample output.\n",
    "WE, THE PEOPLE OF INDIA, having solemnly resolved to constitute India into a\n",
    "SOVEREIGN, SOCIALIST, SECULAR, DEMOCRATIC REPUBLIC and to secure to all\n",
    "its citizens\"\"\"\n",
    "a = \"WE, THE PEOPLE OF INDIA, {f1}having solemnly resolved to constitute India into a SOVEREIGN,{f2}SOCIALIST, SECULAR, DEMOCRATIC REPUBLIC {f3}and to secure to all its citizens\"\"\"\n",
    "print(a.format(f1='\\n\\t',f2='!\\n\\t      ', f3='\\n\\t       '))\n"
   ]
  }
 ],
 "metadata": {
  "kernelspec": {
   "display_name": "Python 3",
   "language": "python",
   "name": "python3"
  },
  "language_info": {
   "codemirror_mode": {
    "name": "ipython",
    "version": 3
   },
   "file_extension": ".py",
   "mimetype": "text/x-python",
   "name": "python",
   "nbconvert_exporter": "python",
   "pygments_lexer": "ipython3",
   "version": "3.7.3"
  }
 },
 "nbformat": 4,
 "nbformat_minor": 2
}
